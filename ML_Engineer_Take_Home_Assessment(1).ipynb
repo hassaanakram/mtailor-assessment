{
  "cells": [
    {
      "cell_type": "markdown",
      "metadata": {
        "id": "5Vu93d2olS3m"
      },
      "source": [
        "# Design and Train an object detector to detect objects\n",
        "\n",
        "You have to design and implement a Training Pipeline that can train, test and visualize the model using the dataset provided.\n",
        "\n",
        "## Assignment Protocols\n",
        "\n",
        "- We expect it to take ~4 hours, with an extra 15 min for clear loom explanation(s)\n",
        "  - The assessment is timeboxed at 5 hours total in a single block. So please plan accordingly\n",
        "- You need to use Google Collaboratory to run and edit this notebook\n",
        "- You can only use Python as a programming Language\n",
        "- You cannot take help from any other person\n",
        "- You can use Google to search for references\n",
        "- You can not search on google for design-related things, like what should be loss function, or what should be model architecture.\n",
        "  - But you can use pre-trained backbones from PyTorch\n",
        "- Record a 5-10 mins of code walkthrough of the work you have done. You can use Loom Platform (https://www.loom.com) to record the video.\n",
        "  - Design Decisions\n",
        "    - Model Design which layers and activation functions you used and why\n",
        "    - Loss function, which loss functions you used and why\n",
        "    - Metrics, which metrics and why\n",
        "  - Any optimizations you have made to the codebase\n",
        "  - How you implemented resume functionality, what were the things you thought would be needed to resume training from exact same point\n",
        "  - Explain what parts of the assessment are completed and what is missing?\n",
        "  - Make sure to submit the screen recording link in the submission after you are done recording\n",
        "  - Please note that the free plan on Loom only allows for videos up to 5 minutes in length. As such, you may need to record two separate 5-minute videos.\n",
        "- [NO SUBMISSION WILL BE ACCEPTED WITHOUT]\n",
        "  - Trained best model weights\n",
        "  - Visualize Function in the Notebook\n",
        "  - Code Walk-through video\n",
        "\n",
        "## Task Details\n",
        "Design a Training Pipeline to train a object detector with following specs or assumptions:\n",
        "- Implement & Design Model\n",
        "  - You can use any backbone\n",
        "    - Either from PyTorch (torhvision) or any resource online\n",
        "    - But you need to design head your self (head means how you will use features of the back bone and get the desired outputs)\n",
        "  - Model needs to detect one object in each image\n",
        "  - Model should output following for each image passed as input:\n",
        "    - Whether we have an object or not\n",
        "    - Where is the object?\n",
        "      - The bounding box output format should be xmin, ymin, xmax, ymax\n",
        "      - It is not necessary the model is trained to output exactly this format but the visualize function which shows output should output in this format\n",
        "    - Either the object is a cat or dog?\n",
        "    - And which specie the object belongs to? There are in total 9 species: \n",
        "      - Cat [3 species]:\n",
        "        - Abyssinian\n",
        "        - Birman\n",
        "        - Persian\n",
        "      - Dog [6 species]\n",
        "        - american_bulldog\n",
        "        - american_pit_bull_terrier\n",
        "        - basset_hound\n",
        "        - beagle\n",
        "        - chihuahua\n",
        "        - pomeranian\n",
        "- Implement Custom Dataloader\n",
        "  - This is obvious as dataset is in a unique format any predifined dataloader wont work\n",
        "  - Follow best practices of writing custom dataloaders\n",
        "  - Details of the format of the dataset are defined in the Dataset Details section below\n",
        "  - Add needed pre-processing that you think would help train a better model or would help as we are using pre-trained weights as starting point\n",
        "  - Add augmentations that you think would help train a better model\n",
        "- Implement Loss Function\n",
        "  - Design and implement a loss function that can handle all of the outputs we have\n",
        "  - You can use pytorch built-in loss functions\n",
        "  - There are many scenarios which you need to handle, which one can understand from the dataset details and the model design\n",
        "- Implement Test Function\n",
        "  - The test function should be able to run the model on the validation set and output the metrics for all the outputs of the model\n",
        "  - Select the metrics carefully, there are many scenarios which can change the selection of a metric\n",
        "  - Keep in mind there are multiple outputs, you would need a metric for each output\n",
        "  - [NOTE] You don't need to implement metrics for the bounding box output as it can take more time than provided for this assessment. But please add details of the metrics you would have implemented in your code-walk through loom video.\n",
        "- Update Resume Training Functionality using the best weights\n",
        "  - Current script does not have save best weights functionality\n",
        "  - The code should be able to resume training from exactly same point from where the training was stopped if model weights file is passed\n",
        "  - Keep in mind you can not resume training from same point by just loading weights of the model\n",
        "- Implement a visualize function [Most important, without this no submission will be accepted]\n",
        "  - The input of the function should be path of a folder with images and the weight file\n",
        "    - Also the output folder path to save outputs\n",
        "  - This function should return a dictionary of dictionaries with following details for each image:\n",
        "    - {\n",
        "        \"has_object\": True,\n",
        "        \"cat_or_dog\": \"cat\",\n",
        "        \"specie\": \"persian\",\n",
        "        \"xmin\": 10,\n",
        "        \"ymin\": 10,\n",
        "        \"xmax\": 10,\n",
        "        \"ymax\": 10\n",
        "    }\n",
        "  - And in case there is no object it should have 0 for bbox values, \"NA\" for \"cat_or_dog\" and \"specie\", and False for \"has_object\".\n",
        "  - Values of the returned dictionary should be like explained above and keys should be image names including the extension \".jpg\" or \".jpeg\"\n",
        "  - Should save output image with bounding box drawn on it, with same name input image but place in the output folder \n",
        "- Try to train the best model\n",
        "\n",
        "\n",
        "## Dataset Details\n",
        "The dataset has in total 1041 images. Each image has a single object which is either a cat or a dog.\n",
        "- There are multiple species for both cat and dog.\n",
        "- The number of images falling in each specie is as follows:\n",
        "  - basset_hound: 93\n",
        "  - Birman: 93\n",
        "  - pomeranian: 93\n",
        "  - american_pit_bull_terrier: 93\n",
        "  - american_bulldog: 93\n",
        "  - Abyssinian: 92\n",
        "  - beagle: 93\n",
        "  - Persian: 93\n",
        "  - chihuahua: 93\n",
        "  - empty: 142\n",
        "- The dataset has two folders:\n",
        "  - images\n",
        "    - Inside images folder we have 986 images in .jpg folder\n",
        "  - labels\n",
        "    - Inside labels folder we have 899 .xml files each file with details of image labels\n",
        "    - For any image that does not have a cat or dog, there is no corresponding xml file\n",
        "\n",
        "## Deliverable\n",
        "- Updated Colab Based Jupyter Notebook:\n",
        "  - With all the required functionality Implemented\n",
        "  - Which one can train the model without any errors\n",
        "  - One should achieve same metrics (Almost same metrics) if I run training using this collab notebook\n",
        "    - Set default values for everything accordingly in the notebook\n",
        "  - During evaluation we will just run the notebook and use the best weights the notebook saves automatically\n",
        "- Best weights you have trained\n",
        "  - We will Evaluate your weights against hold-out test we have and compare results\n",
        "  - We will use visualize function to generate outputs for each image\n",
        "  - Upload weights in an easily downloadable location like, Dropbox, Google Drive, Github, etc\n",
        "- A video code-walk through explaining your design decisions including but not limited to:\n",
        "  - Model Design which layers and activation functions you used and why\n",
        "  - Loss function, which loss functions you used and why\n",
        "  - Metrics, which metrics and why\n",
        "  - Any optimizations you have made to the codebase\n",
        "  - How you implemented resume functionality, what were the things you thought would be needed to resume training from exact same point\n",
        "\n",
        "\n",
        "## Evaluation Criteria\n",
        " - Design Decisions\n",
        " - Completeness: Did you include all features?\n",
        " - Correctness: Does the solution (all deliverables) work in sensible, thought-out ways?\n",
        " - Maintainability: Is the code written in a clean, maintainable way?\n",
        " - Testing: Is the solution adequately tested?\n",
        " - Documentation: Is the codebase well-documented and has proper steps to run any of the deliverables?\n",
        "\n",
        "## Extra Points\n",
        "- Add metrics for the Bounding Box Output\n",
        "- Any Updates in the notebook (Bugs/Implementation Mistakes etc)\n",
        "\n",
        "## How to submit\n",
        "- Please upload the Notebook for this project to GitHub, and post a link to your repository below [repo link box, on the left of submit button].\n",
        "  - Create a new GitHub repository from scratch\n",
        "  - Add the final Colab/Jupyter notebook to the repository\n",
        "- Please upload video and your final best weights on Google Drive or any other platform, and paste the link to the folder with both video and model in the text box just above the submit button.\n",
        "- Please paste the commit Id of the latest commit of your Github Repo, which should not be later than 5 hours of time when the repo was created.\n",
        "  - Please note the submission without the commit id will not be considered."
      ]
    },
    {
      "cell_type": "markdown",
      "metadata": {
        "id": "KE_rGh4kod4n"
      },
      "source": [
        "# Install Required Modules"
      ]
    },
    {
      "cell_type": "code",
      "execution_count": 1,
      "metadata": {
        "id": "magQ0ErkoOIR",
        "colab": {
          "base_uri": "https://localhost:8080/"
        },
        "outputId": "607b324e-10fa-4afe-acf0-033a38a9cd85"
      },
      "outputs": [
        {
          "output_type": "stream",
          "name": "stdout",
          "text": [
            "Looking in indexes: https://pypi.org/simple, https://us-python.pkg.dev/colab-wheels/public/simple/\n",
            "Collecting bs4\n",
            "  Downloading bs4-0.0.1.tar.gz (1.1 kB)\n",
            "  Preparing metadata (setup.py) ... \u001b[?25l\u001b[?25hdone\n",
            "Requirement already satisfied: lxml in /usr/local/lib/python3.10/dist-packages (4.9.2)\n",
            "Requirement already satisfied: kaggle in /usr/local/lib/python3.10/dist-packages (1.5.13)\n",
            "Requirement already satisfied: beautifulsoup4 in /usr/local/lib/python3.10/dist-packages (from bs4) (4.11.2)\n",
            "Requirement already satisfied: six>=1.10 in /usr/local/lib/python3.10/dist-packages (from kaggle) (1.16.0)\n",
            "Requirement already satisfied: certifi in /usr/local/lib/python3.10/dist-packages (from kaggle) (2022.12.7)\n",
            "Requirement already satisfied: python-dateutil in /usr/local/lib/python3.10/dist-packages (from kaggle) (2.8.2)\n",
            "Requirement already satisfied: requests in /usr/local/lib/python3.10/dist-packages (from kaggle) (2.27.1)\n",
            "Requirement already satisfied: tqdm in /usr/local/lib/python3.10/dist-packages (from kaggle) (4.65.0)\n",
            "Requirement already satisfied: python-slugify in /usr/local/lib/python3.10/dist-packages (from kaggle) (8.0.1)\n",
            "Requirement already satisfied: urllib3 in /usr/local/lib/python3.10/dist-packages (from kaggle) (1.26.15)\n",
            "Requirement already satisfied: soupsieve>1.2 in /usr/local/lib/python3.10/dist-packages (from beautifulsoup4->bs4) (2.4.1)\n",
            "Requirement already satisfied: text-unidecode>=1.3 in /usr/local/lib/python3.10/dist-packages (from python-slugify->kaggle) (1.3)\n",
            "Requirement already satisfied: charset-normalizer~=2.0.0 in /usr/local/lib/python3.10/dist-packages (from requests->kaggle) (2.0.12)\n",
            "Requirement already satisfied: idna<4,>=2.5 in /usr/local/lib/python3.10/dist-packages (from requests->kaggle) (3.4)\n",
            "Building wheels for collected packages: bs4\n",
            "  Building wheel for bs4 (setup.py) ... \u001b[?25l\u001b[?25hdone\n",
            "  Created wheel for bs4: filename=bs4-0.0.1-py3-none-any.whl size=1257 sha256=2aa5d175a673918aaf03cf69641abf3423d13af9f49de1cebad093186ff32c3c\n",
            "  Stored in directory: /root/.cache/pip/wheels/25/42/45/b773edc52acb16cd2db4cf1a0b47117e2f69bb4eb300ed0e70\n",
            "Successfully built bs4\n",
            "Installing collected packages: bs4\n",
            "Successfully installed bs4-0.0.1\n"
          ]
        }
      ],
      "source": [
        "! pip install bs4 lxml kaggle"
      ]
    },
    {
      "cell_type": "markdown",
      "metadata": {
        "id": "Bw3F4t1eaLl6"
      },
      "source": [
        "# Download Dataset from Kaggle"
      ]
    },
    {
      "cell_type": "code",
      "execution_count": 2,
      "metadata": {
        "id": "59RSpyzRaOVj"
      },
      "outputs": [],
      "source": [
        "import os\n",
        "os.environ['KAGGLE_USERNAME'] = 'bilalyousaf0014'\n",
        "os.environ['KAGGLE_KEY'] = '11031bc21c5e3ec23585dbe17dc4267d'"
      ]
    },
    {
      "cell_type": "code",
      "execution_count": 3,
      "metadata": {
        "id": "plZEhi_oaPPn",
        "colab": {
          "base_uri": "https://localhost:8080/"
        },
        "outputId": "c4d1ef12-7863-499c-b4ae-c5ebb8e6d267"
      },
      "outputs": [
        {
          "output_type": "stream",
          "name": "stdout",
          "text": [
            "Downloading ml-engineer-assessment-dataset.zip to /content\n",
            " 99% 78.0M/78.6M [00:04<00:00, 23.2MB/s]\n",
            "100% 78.6M/78.6M [00:04<00:00, 18.2MB/s]\n"
          ]
        }
      ],
      "source": [
        "!kaggle datasets download -d bilalyousaf0014/ml-engineer-assessment-dataset"
      ]
    },
    {
      "cell_type": "code",
      "execution_count": null,
      "metadata": {
        "id": "d6jkCK0uaxRT"
      },
      "outputs": [],
      "source": [
        "! unzip /content/ml-engineer-assessment-dataset.zip"
      ]
    },
    {
      "cell_type": "markdown",
      "metadata": {
        "id": "PMEbUqsPl9s4"
      },
      "source": [
        "# MODEL IMPLEMENTATION:"
      ]
    },
    {
      "cell_type": "code",
      "source": [
        "!pip install pybboxes"
      ],
      "metadata": {
        "colab": {
          "base_uri": "https://localhost:8080/"
        },
        "id": "lF70Mv6gHg18",
        "outputId": "6abbc7e2-2917-4a11-f798-8fab5be5244c"
      },
      "execution_count": 4,
      "outputs": [
        {
          "output_type": "stream",
          "name": "stdout",
          "text": [
            "Looking in indexes: https://pypi.org/simple, https://us-python.pkg.dev/colab-wheels/public/simple/\n",
            "Collecting pybboxes\n",
            "  Downloading pybboxes-0.1.6-py3-none-any.whl (24 kB)\n",
            "Requirement already satisfied: numpy in /usr/local/lib/python3.10/dist-packages (from pybboxes) (1.22.4)\n",
            "Installing collected packages: pybboxes\n",
            "Successfully installed pybboxes-0.1.6\n"
          ]
        }
      ]
    },
    {
      "cell_type": "code",
      "execution_count": 5,
      "metadata": {
        "id": "uXb6eKgFmNzx"
      },
      "outputs": [],
      "source": [
        "import os\n",
        "import torch\n",
        "import torch.nn as nn\n",
        "import numpy as np\n",
        "\n",
        "from torchvision.models import resnet18, ResNet18_Weights\n",
        "\n",
        "# Set seeds to ensure a deterministic output\n",
        "torch.manual_seed(0)\n",
        "np.random.seed(0)"
      ]
    },
    {
      "cell_type": "code",
      "execution_count": 55,
      "metadata": {
        "id": "BtSgG4OklRte"
      },
      "outputs": [],
      "source": [
        "class Model(nn.Module):\n",
        "\n",
        "  def __init__(self):\n",
        "    super(Model, self).__init__()\n",
        "    pretrained_model = resnet18(weights=ResNet18_Weights.DEFAULT)\n",
        "    self.backbone = nn.Sequential(*list(pretrained_model.children())[:-2], nn.Flatten(), nn.Linear(32768, 32768//16))\n",
        "    ### Initialize the required Layers\n",
        "    # The model will have the following branched outputs:\n",
        "    # 1) Have_Object - One hot - 2 neurons - softmax\n",
        "    # 2) Cat or Dog - One hot - 3 neurons - softmax\n",
        "    # 3) Specie - 9 neurons each activated by sofmax.\n",
        "    # 4) Bounding box - [x top, y top, width, height]. Not normalized.\n",
        "\n",
        "    self.have_object = nn.Sequential(nn.Linear(2048, 2), nn.Softmax(dim=1))\n",
        "    self.cat_or_dog = nn.Sequential(nn.Linear(2048, 3), nn.Softmax(dim=1))\n",
        "    self.specie = nn.Sequential(nn.Linear(2048, 10), nn.Softmax(dim=1))\n",
        "    self.bbox = nn.Linear(2048, 4)\n",
        "    ### Initialize the required Layers\n",
        "\n",
        "  def forward(self, input):\n",
        "      out_backbone = self.backbone(input)\n",
        "      ### Write Forward Calls for the Model\n",
        "      out_have_object = self.have_object(out_backbone)\n",
        "      out_cat_or_dog = self.cat_or_dog(out_backbone)\n",
        "      out_specie = self.specie(out_backbone)\n",
        "      out_bbox = self.bbox(out_backbone)\n",
        "\n",
        "      return {\n",
        "          \"bbox\": out_bbox,\n",
        "          \"object\": out_have_object,\n",
        "          \"cat_or_dog\": out_cat_or_dog,\n",
        "          \"specie\": out_specie\n",
        "      }\n"
      ]
    },
    {
      "cell_type": "code",
      "source": [
        "from torchsummary import summary\n",
        "m = Model()\n",
        "print(summary(m, (3,256,256)))"
      ],
      "metadata": {
        "id": "pUJISSK18AFA"
      },
      "execution_count": null,
      "outputs": []
    },
    {
      "cell_type": "markdown",
      "metadata": {
        "id": "avxCQ2W-oGxV"
      },
      "source": [
        "# CUSTOM DATALOADER IMPLEMENTATION"
      ]
    },
    {
      "cell_type": "code",
      "execution_count": 8,
      "metadata": {
        "id": "ZNds6zOg8w5A"
      },
      "outputs": [],
      "source": [
        "train_list = np.load('/content/assessment_dataset/train_list.npy', allow_pickle=True).tolist()\n",
        "val_list = np.load('/content/assessment_dataset/val_list.npy', allow_pickle=True).tolist()"
      ]
    },
    {
      "cell_type": "code",
      "source": [
        "!pip install pybboxes"
      ],
      "metadata": {
        "colab": {
          "base_uri": "https://localhost:8080/"
        },
        "id": "c7jSeex1QNGC",
        "outputId": "6934deee-1a5b-47ca-8ce8-d8dc0d62b14c"
      },
      "execution_count": 11,
      "outputs": [
        {
          "output_type": "stream",
          "name": "stdout",
          "text": [
            "Looking in indexes: https://pypi.org/simple, https://us-python.pkg.dev/colab-wheels/public/simple/\n",
            "Collecting pybboxes\n",
            "  Downloading pybboxes-0.1.6-py3-none-any.whl (24 kB)\n",
            "Requirement already satisfied: numpy in /usr/local/lib/python3.10/dist-packages (from pybboxes) (1.22.4)\n",
            "Installing collected packages: pybboxes\n",
            "Successfully installed pybboxes-0.1.6\n"
          ]
        }
      ]
    },
    {
      "cell_type": "code",
      "execution_count": 9,
      "metadata": {
        "id": "E30zu6ICmKOL"
      },
      "outputs": [],
      "source": [
        "from bs4 import BeautifulSoup\n",
        "\n",
        "def read_xml_file(path):\n",
        "    with open(path, 'r') as f:\n",
        "        data = f.read()\n",
        "    bs_data = BeautifulSoup(data, 'xml')\n",
        "    return {\n",
        "        \"cat_or_dog\": bs_data.find(\"name\").text,\n",
        "        \"xmin\": int(bs_data.find(\"xmin\").text),\n",
        "        \"ymin\": int(bs_data.find(\"ymin\").text),\n",
        "        \"xmax\": int(bs_data.find(\"xmax\").text),\n",
        "        \"ymax\": int(bs_data.find(\"ymax\").text),\n",
        "        \"specie\": \"_\".join(path.split(os.sep)[-1].split(\"_\")[:-1])\n",
        "    }"
      ]
    },
    {
      "cell_type": "code",
      "execution_count": 59,
      "metadata": {
        "id": "z16n7BbnoviB"
      },
      "outputs": [],
      "source": [
        "from PIL import Image\n",
        "\n",
        "import torchvision.transforms as transforms\n",
        "from torch.utils.data import Dataset, DataLoader\n",
        "import pybboxes as pbx\n",
        "\n",
        "class CustomDataset(Dataset):\n",
        "\n",
        "  def __init__(self, dataset_path, images_list, train=False):\n",
        "\n",
        "    self.preprocess = None\n",
        "    self.xml_data_list = []\n",
        "    self.image_names_list = []\n",
        "\n",
        "    self.image_folder_path = os.path.join(dataset_path, \"images\")\n",
        "    self.label_folder_path = os.path.join(dataset_path, \"labels\")\n",
        "\n",
        "    self.has_object_encoding = {True: 1, False: 0}\n",
        "    self.cat_or_dog_encoding = {\"cat\": 0, \"dog\": 1, \"None\": 2}\n",
        "    self.species_encoding = {\"Abyssinian\": 0,\n",
        "                             \"Birman\": 1,\n",
        "                             \"Persian\": 2,\n",
        "                             \"american_bulldog\": 3,\n",
        "                             \"american_pit_bull_terrier\": 4,\n",
        "                             \"basset_hound\": 5,\n",
        "                             \"beagle\": 6,\n",
        "                             \"chihuahua\": 7,\n",
        "                             \"pomeranian\": 8,\n",
        "                             \"None\": 9\n",
        "                             }\n",
        "\n",
        "    for path in os.listdir(self.image_folder_path):\n",
        "        name_with_ext = path.split(os.sep)[-1]\n",
        "        self.image_names_list.append(name_with_ext)\n",
        "        name = name_with_ext.split(\".\")[0]\n",
        "      \n",
        "        if name in images_list:\n",
        "          xml_path = os.path.join(self.label_folder_path, name+\".xml\")\n",
        "          try:\n",
        "            xml_data = read_xml_file(xml_path)\n",
        "            labels_with_normalized_bbox = self.normalize_bbox(xml_data)\n",
        "            self.xml_data_list.append(labels_with_normalized_bbox)\n",
        "          except Exception as e:\n",
        "            print(f\"Exception occured while reading xml for {name} - {e}\")\n",
        "        self.xml_data_list.append({\"cat_or_dog\": \"None\", \"xtop\": 0, \"ytop\": 0, \"width\": 0, \"height\": 0, \"specie\": \"None\", \"has_object\": False})\n",
        "\n",
        "  def __len__(self):\n",
        "    return len(self.image_names_list)\n",
        "\n",
        "  def __getitem__(self, index):\n",
        "    if torch.is_tensor(index):\n",
        "            index = index.tolist()\n",
        "\n",
        "    img_name = self.image_names_list[index]\n",
        "    image = Image.open(os.path.join(self.image_folder_path, img_name))\n",
        "    image = np.asarray(image.resize((256,256)))\n",
        "    image = np.moveaxis(image, -1, 0)\n",
        "    labels = self.encode_labels(index)\n",
        "\n",
        "    if self.preprocess:\n",
        "        image = self.preprocess(image)\n",
        "\n",
        "    return image, labels\n",
        "\n",
        "  def encode_labels(self, index):\n",
        "    labels = self.xml_data_list[index]\n",
        "    # labels have some categorical features that need to be encoded to class indexes\n",
        "    # this function serves that purpose. Please note that PyTorch's CrossEntropy\n",
        "    # Loss function does not expect a one hot vector as target.\n",
        "    has_object = labels.get(\"has_object\")\n",
        "    specie = labels.get(\"specie\")\n",
        "    cat_or_dog = labels.get(\"cat_or_dog\")\n",
        "\n",
        "    return {\n",
        "        \"cat_or_dog\": self.cat_or_dog_encoding[cat_or_dog],\n",
        "        \"xtop\": labels[\"xtop\"],\n",
        "        \"ytop\": labels[\"ytop\"],\n",
        "        \"width\": labels[\"width\"],\n",
        "        \"height\": labels[\"height\"],\n",
        "        \"specie\": self.species_encoding[specie], \n",
        "        \"has_object\": self.has_object_encoding[has_object]\n",
        "    }\n",
        "\n",
        "\n",
        "  def normalize_bbox(self, xml_data):\n",
        "   xmin = xml_data.get(\"xmin\", 0)\n",
        "   xmax = xml_data.get(\"xmax\", 0)\n",
        "   ymin = xml_data.get(\"ymin\", 0)\n",
        "   ymax = xml_data.get(\"ymax\", 0)\n",
        "   normalized_coco_bbox = pbx.convert_bbox((xmin, ymin, xmax, ymax), from_type=\"voc\", to_type=\"coco\")\n",
        "   return {\n",
        "        \"cat_or_dog\": xml_data.get(\"cat_or_dog\"),\n",
        "        \"xtop\": normalized_coco_bbox[0],\n",
        "        \"ytop\": normalized_coco_bbox[1],\n",
        "        \"width\": normalized_coco_bbox[2],\n",
        "        \"height\": normalized_coco_bbox[3],\n",
        "        \"specie\": xml_data.get(\"specie\"), \n",
        "        \"has_object\": True\n",
        "    }"
      ]
    },
    {
      "cell_type": "markdown",
      "metadata": {
        "id": "hkbn3C3cqahY"
      },
      "source": [
        "# TRAINING LOOP IMPLEMENTATION"
      ]
    },
    {
      "cell_type": "markdown",
      "metadata": {
        "id": "SxODf-DLqmPA"
      },
      "source": [
        "## Initializations"
      ]
    },
    {
      "cell_type": "code",
      "execution_count": 14,
      "metadata": {
        "id": "Drkrrx8pqjzM"
      },
      "outputs": [],
      "source": [
        "from torch.utils.data import DataLoader"
      ]
    },
    {
      "cell_type": "code",
      "source": [
        "!pip install torchmetrics"
      ],
      "metadata": {
        "id": "nhLVW__KL_Dw"
      },
      "execution_count": null,
      "outputs": []
    },
    {
      "cell_type": "code",
      "execution_count": 89,
      "metadata": {
        "id": "1k8jvr7EqaPz"
      },
      "outputs": [],
      "source": [
        "# import our library\n",
        "import torchmetrics\n",
        "from torch import optim\n",
        "import torchvision\n",
        "\n",
        "def train(epochs, model_weights):\n",
        "\n",
        "  # Initialize Model and Optimizer\n",
        "  model = Model()\n",
        "  if torch.cuda.is_available():\n",
        "    model = model.cuda()\n",
        "  optimizer = optim.SGD(model.parameters(), lr=0.001, momentum=0.9)\n",
        "\n",
        "  # Initialize Loss Functions\n",
        "  have_object_loss = nn.CrossEntropyLoss()\n",
        "  specie_loss = nn.CrossEntropyLoss()\n",
        "  cat_or_dog_loss = nn.CrossEntropyLoss()\n",
        "  bbox_loss = torchvision.ops.generalized_box_iou_loss\n",
        "  xmin_loss = nn.MSELoss()\n",
        "  ymin_loss = nn.MSELoss()\n",
        "  xmax_loss = nn.MSELoss()\n",
        "  ymax_loss = nn.MSELoss()\n",
        "\n",
        "  training_dataset = CustomDataset(\"/content/assessment_dataset\", images_list=train_list)\n",
        "  training_loader = DataLoader(training_dataset, batch_size=32, shuffle=True, num_workers=0)\n",
        "\n",
        "  def train_one_epoch(epoch_index, tb_writer):\n",
        "      running_loss = {\"bbox\": 0.0, \"specie\": 0.0, \"has_object\": 0.0, \"cat_or_dog\": 0.0}\n",
        "      last_loss = {\"bbox\": 0.0, \"specie\": 0.0, \"has_object\": 0.0, \"cat_or_dog\": 0.0}\n",
        "\n",
        "      # Here, we use enumerate(training_loader) instead of\n",
        "      # iter(training_loader) so that we can track the batch\n",
        "      # index and do some intra-epoch reporting\n",
        "      for i, data in enumerate(training_loader):\n",
        "          # Every data instance is an input + label pair\n",
        "          inputs, labels = data\n",
        "\n",
        "          # Make predictions for this batch\n",
        "          outputs = model(inputs.cuda().float())\n",
        "\n",
        "          # Compute the loss and its gradients\n",
        "          loss_have_object = have_object_loss(outputs[\"object\"], labels[\"has_object\"].cuda())\n",
        "          loss_specie = specie_loss(outputs[\"specie\"], labels[\"specie\"].cuda())\n",
        "          loss_cat_or_dog = cat_or_dog_loss(outputs[\"cat_or_dog\"], labels[\"cat_or_dog\"].cuda())\n",
        "          \n",
        "          #loss_bbox = bbox_loss(outputs[\"bbox\"][i], torch.tensor([labels[\"xtop\"], labels[\"ytop\"], labels[\"width\"], labels[\"height\"]]))\n",
        "          # Above or Below\n",
        "          loss_xtop = xmin_loss(outputs[\"bbox\"][:, 0], labels[\"xtop\"].cuda())\n",
        "          loss_ytop = ymin_loss(outputs[\"bbox\"][:, 1], labels[\"ytop\"].cuda())\n",
        "          loss_w = xmax_loss(outputs[\"bbox\"][:, 2], labels[\"width\"].cuda())\n",
        "          loss_h = ymax_loss(outputs[\"bbox\"][:, 3], labels[\"height\"].cuda())\n",
        "          loss_bbox = (loss_xtop + loss_ytop + loss_w + loss_h)/4.0\n",
        "\n",
        "          #loss =  # Consolidate all individual losses\n",
        "\n",
        "          # Gather data and report\n",
        "          running_loss[\"bbox\"] += loss_bbox.item()\n",
        "          running_loss[\"specie\"] += loss_specie.item()\n",
        "          running_loss[\"cat_or_dog\"] += loss_cat_or_dog.item()\n",
        "          running_loss[\"has_object\"] += loss_have_object.item()\n",
        "          if i % 10 == 0:\n",
        "              last_loss[\"bbox\"] += running_loss[\"bbox\"] / 10.0\n",
        "              last_loss[\"specie\"] += running_loss[\"specie\"] / 10.0\n",
        "              last_loss[\"cat_or_dog\"] += running_loss[\"cat_or_dog\"] / 10.0\n",
        "              last_loss[\"has_object\"] += running_loss[\"has_object\"] / 10.0 # loss per batch\n",
        "              running_loss = {\"bbox\": 0.0, \"specie\": 0.0, \"has_object\": 0.0, \"cat_or_dog\": 0.0}\n",
        "      return last_loss\n",
        "\n",
        "  for i in range(epochs):\n",
        "\n",
        "    epoch_loss = train_one_epoch(i, None)\n",
        "    print(f' Epoch {i} Loss : {epoch_loss}')\n",
        "\n",
        "    torch.save(model.state_dict(), \"model.pth\")\n",
        "    metrics = test(model, val_list)\n",
        "    print(metrics)\n",
        "\n",
        "def test(model, val_list):\n",
        "  if torch.cuda.is_available():\n",
        "    model = model.cuda()\n",
        "\n",
        "  def post_process_object(x):\n",
        "    return x\n",
        "\n",
        "  def post_process_cat_or_dog(x):\n",
        "    return x\n",
        "\n",
        "  def post_process_specie(x):\n",
        "    return x\n",
        "\n",
        "  def post_process_bbox(x):\n",
        "    return x\n",
        "\n",
        "  val_dataset = CustomDataset(\"/content/assessment_dataset\", images_list=val_list)\n",
        "  val_loader = DataLoader(val_dataset, batch_size=32, shuffle=True, num_workers=0)\n",
        "\n",
        "  metric_object = torchmetrics.Accuracy(task='multiclass', num_classes=2).to('cuda')\n",
        "  metric_cat_or_dog = torchmetrics.Accuracy(task='multiclass', num_classes=3).to('cuda')\n",
        "  metric_specie = torchmetrics.Accuracy(task='multiclass', num_classes=10).to('cuda')\n",
        "  metric_bbox = None # mean average over precision would have been my first choice\n",
        "\n",
        "  for i, data in enumerate(val_loader):\n",
        "    inputs, labels = data\n",
        "\n",
        "    # Make predictions for this batch\n",
        "    outputs = model(inputs.cuda().float())\n",
        "\n",
        "    score_object_one_batch = metric_object(outputs[\"object\"], labels[\"has_object\"].cuda())\n",
        "    score_cat_or_dog_one_batch = metric_cat_or_dog(outputs[\"cat_or_dog\"], labels[\"cat_or_dog\"].cuda())\n",
        "    score_specie_one_batch = metric_specie(outputs[\"specie\"], labels[\"specie\"].cuda())\n",
        "\n",
        "  score_object = metric_object.compute()\n",
        "  score_cat_or_dog = metric_cat_or_dog.compute()\n",
        "  score_specie = metric_specie.compute()\n",
        "  score_bbox = metric_bbox\n",
        "\n",
        "  return score_object, score_cat_or_dog, score_specie, score_bbox"
      ]
    },
    {
      "cell_type": "code",
      "source": [
        "train(1, None)"
      ],
      "metadata": {
        "colab": {
          "base_uri": "https://localhost:8080/"
        },
        "id": "cZzBYixBc23h",
        "outputId": "e7486e85-eff6-48bd-c8d0-8ef5e813faed"
      },
      "execution_count": 90,
      "outputs": [
        {
          "output_type": "stream",
          "name": "stdout",
          "text": [
            " Epoch 0 Loss : {'bbox': 31091.04560546875, 'specie': 7.134540247917175, 'has_object': 2.367950713634491, 'cat_or_dog': 3.319084358215332}\n",
            "(tensor(0.1755, device='cuda:0'), tensor(0.5751, device='cuda:0'), tensor(0.1004, device='cuda:0'), None)\n"
          ]
        }
      ]
    },
    {
      "cell_type": "code",
      "execution_count": 74,
      "metadata": {
        "id": "8TgRVGPDaUAd"
      },
      "outputs": [],
      "source": [
        "from PIL import ImageDraw\n",
        "\n",
        "def visualize(model_weights, image_folder_path, output_folder=\"output\"):\n",
        "\n",
        "  model = Model()\n",
        "  model.load_state_dict(torch.load(model_weights))\n",
        "\n",
        "  for path in os.listdir(image_folder_path):\n",
        "    image_name = path.split(os.sep)[-1]\n",
        "    try:\n",
        "      image = Image.open(os.path.join(\"/content/assessment_dataset/images\", image_name))\n",
        "    except Exception as e:\n",
        "      print(f\"Error while reading image {image_name}\")\n",
        "\n",
        "  preprocess = np.asarray(image.resize((256,256)))\n",
        "  preprocess = np.moveaxis(preprocess, -1, 0)\n",
        "  preprocess = np.expand_dims(preprocess, 0)\n",
        "  output = model(torch.tensor(preprocess).float())\n",
        "\n",
        "  print(f'Output from model: {output}')\n",
        "\n",
        "  bbox = output[\"bbox\"].detach().numpy()\n",
        "  bbox_voc = pbx.convert_bbox(bbox[0], from_type=\"coco\", to_type=\"voc\", image_size=(256,256))\n",
        "  out_image = ImageDraw.Draw(preprocess)\n",
        "  out_image.polygon([\n",
        "        bbox_voc[0], bbox_voc[1],\n",
        "        bbox_voc[2], bbox_voc[1],\n",
        "        bbox_voc[2], bbox_voc[3],\n",
        "        bbox_voc[0], bbox_voc[3]], None, 'red')\n",
        "  out_image.Show()\n"
      ]
    },
    {
      "cell_type": "code",
      "execution_count": null,
      "metadata": {
        "id": "u7npVwns6LU6"
      },
      "outputs": [],
      "source": [
        "visualize(\"model.pth\", \"/content/assessment_dataset/images\")"
      ]
    }
  ],
  "metadata": {
    "accelerator": "GPU",
    "colab": {
      "provenance": [],
      "gpuType": "T4"
    },
    "gpuClass": "standard",
    "kernelspec": {
      "display_name": "Python 3",
      "name": "python3"
    },
    "language_info": {
      "name": "python"
    }
  },
  "nbformat": 4,
  "nbformat_minor": 0
}